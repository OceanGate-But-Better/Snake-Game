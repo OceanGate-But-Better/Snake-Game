{
 "cells": [
  {
   "cell_type": "markdown",
   "metadata": {},
   "source": [
    "# **Snake Game**\n",
    "\n",
    "The basic objective of the Snake game is to control a snake, represented by a line or series of connected segments, as it moves around a playing area. The goal is to guide the snake to consume food items that appear on the screen.\n",
    "\n",
    "Each time the snake consumes a food item, it grows longer, and the player's score increases. The challenge of the game increases as the snake grows because the player must avoid having the snake collide with the walls of the playing area or itself. If either of these collisions occurs, the game is over.\n",
    "\n",
    "The objective is to achieve the highest possible score by consuming as many food items as possible without causing a collision that ends the game. \n",
    "\n",
    "Programming the Snake Game in Python is an instructive exercise that covers various facets of programming, computer science, and game development. It's a comprehensive project that can teach valuable skills and concepts, making it a popular choice for educational purposes.\n",
    "\n",
    "\n",
    "Programming the Snake Game, especially using the Python programming language, can be highly instructive. Here's an overview of the instructive benefits that can be learned from this project:\n",
    "\n",
    "1. **Object-Oriented Programming (OOP):** The Snake Game often involves creating classes and objects, providing a hands-on experience with OOP concepts like encapsulation, inheritance, and polymorphism.\n",
    "\n",
    "2. **Understanding Game Loops:** A critical aspect of many games, understanding how to create and manage a game loop that handles user input, updates game states, and renders graphics is fundamental to game development.\n",
    "\n",
    "3. **Event Handling:** Dealing with real-time user input (e.g., key presses) helps in understanding event-driven programming, a concept used not just in games but also in GUI applications.\n",
    "\n",
    "4. **Collision Detection**: The Snake Game requires detection of collisions between the snake and food items, or the snake and itself. This introduces the concepts of hitboxes and collision detection algorithms, vital in many game and simulation applications.\n",
    "\n",
    "5. **Graphics Programming**: Utilizing libraries like Pygame, you can learn the basics of rendering shapes, handling animations, and managing visual updates in real-time, which is a gateway to more advanced computer graphics.\n",
    "\n",
    "6. **Recursion and Algorithms**: Some parts of the Snake Game, like placing food items, might use recursion or specific algorithms, providing practice with these important computer science concepts.\n",
    "\n",
    "7. **Utilization of Data Structures**: The game involves the use of specific data structures like lists and tuples (e.g., namedtuple) to manage the snake's body, enhancing understanding of data handling and manipulation.\n",
    "\n",
    "8. **Debugging Skills**: Building a complete game like Snake requires careful attention to details and logical thinking, helping to cultivate debugging and problem-solving skills.\n",
    "\n",
    "9. **Understanding Frameworks and Libraries**: Working with Pygame or similar frameworks can provide insights into how libraries and frameworks are structured, how to read documentation, and how to incorporate third-party tools into your own projects.\n",
    "\n",
    "\n",
    "> **References:**<br>\n",
    "[**Build the Snake Game with Pygame**](https://docs.replit.com/tutorials/python/build-snake-with-pygame)<br>"
   ]
  },
  {
   "cell_type": "code",
   "execution_count": 2,
   "metadata": {},
   "outputs": [],
   "source": [
    "# Importing the libraries\n",
    "import pygame\n",
    "import random\n",
    "from enum import Enum\n",
    "from collections import namedtuple"
   ]
  },
  {
   "cell_type": "code",
   "execution_count": 3,
   "metadata": {},
   "outputs": [],
   "source": [
    "# Initialize pygame \n",
    "pygame.init()\n",
    "font = pygame.font.Font('arial.ttf', 25) # Using the default font"
   ]
  },
  {
   "cell_type": "markdown",
   "metadata": {},
   "source": [
    "*Code Explaination:*\n",
    "\n",
    "|Code Example|Explaination|\n",
    "|:---|:---|\n",
    "|**`pygame.init()`**|This line initializes all the modules in the Pygame library, preparing them for use in the program. It must be called before you can use any other Pygame functions, and is a standard part of setting up a Pygame application.|\n",
    "|**`font = pygame.font.Font('arial.ttf', 25)`**|This line creates a font object that you can use to render text. `arial.ttf` tells Pygame to use the default system font, and `25` sets the size of the font to 25 points. You can later use this font object to draw text onto your game window with the desired appearance.|\n"
   ]
  },
  {
   "cell_type": "code",
   "execution_count": 4,
   "metadata": {},
   "outputs": [],
   "source": [
    "# This class contains the Direction Enumeration\n",
    "class Direction(Enum):\n",
    "    \"\"\"Enumeration for Directions\"\"\"\n",
    "    RIGHT = 1\n",
    "    LEFT = 2\n",
    "    UP = 3\n",
    "    DOWN = 4"
   ]
  },
  {
   "cell_type": "markdown",
   "metadata": {},
   "source": [
    "The `Direction` class is a simple enumeration that defines constant values for the four cardinal directions that the snake can move in. This enumeration helps increase code readability and maintainability by using meaningful names for these values throughout the code.\n",
    "\n",
    "*Code Explaination:*\n",
    "\n",
    "|Code Example|Explaination|\n",
    "|:---|:---|\n",
    "|**`class Direction(Enum):`**|Defines a new class Direction that inherits from the Enum class. Enumerations are a symbolic way to define a set of constants, providing meaningful names for the constant values.|\n",
    "|**`RIGHT = 1`**| Defines a constant named `RIGHT` and assigns it the value `1`. This constant can be used throughout the code to represent the direction right. This is repeated for left, up, and down: 2, 3, and 4 respectively.|\n"
   ]
  },
  {
   "cell_type": "code",
   "execution_count": 9,
   "metadata": {},
   "outputs": [],
   "source": [
    "# Creates a namedtuple to represent the coordinates of the snake\n",
    "Point = namedtuple('Point', 'x, y') # Point used to represent the coordinates of the snake"
   ]
  },
  {
   "cell_type": "markdown",
   "metadata": {},
   "source": [
    "This line provides a concise way to define a class with two attributes, `x` and `y`, that can be used to represent a point in 2D space. In the context of the snake game, this is particularly useful for representing the positions of the snake's segments and other objects on the game board.\n",
    "\n",
    "Named tuples can be particularly helpful when you want to bundle some simple data together without having to write a full class definition. They are immutable, just like regular tuples, so you can't modify the values of the fields once they're set."
   ]
  },
  {
   "cell_type": "code",
   "execution_count": 8,
   "metadata": {},
   "outputs": [],
   "source": [
    "# RGB colors\n",
    "WHITE = (255, 255, 255)\n",
    "RED = (200, 0, 0)\n",
    "BLUE1 = (0, 0, 255)\n",
    "BLUE2 = (0, 100, 255)\n",
    "BLACK = (0, 0, 0)\n",
    "\n",
    "# Define the block size and speed of the game\n",
    "BLOCK_SIZE = 20\n",
    "SPEED = 10"
   ]
  },
  {
   "cell_type": "markdown",
   "metadata": {},
   "source": [
    "These are global variables storing various constants and RBG codes. "
   ]
  },
  {
   "cell_type": "markdown",
   "metadata": {},
   "source": [
    "## **`class SnakeGame`**\n",
    "\n",
    "The `SnakeGame` class encapsulates the logic and state of the snake game. It's responsible for handling the game's initialization, player input, movement, collision detection, scoring, rendering, and other core aspects of the game's functionality. The class contains all of the games core methods(functions) to manage the game's lifecycle, control the snake, place food items, and render the game to the screen. By encapsulating these functions within a class, the code is organized in a way that separates the game's logic from other parts of the program, making it more maintainable and understandable."
   ]
  },
  {
   "cell_type": "code",
   "execution_count": 6,
   "metadata": {},
   "outputs": [],
   "source": [
    "class SnakeGame:\n",
    "    \"\"\"Snake Game class responsible for handling game logic\"\"\"\n"
   ]
  },
  {
   "cell_type": "markdown",
   "metadata": {},
   "source": [
    "\n",
    "The following functions are encapsulated within the `SnakeGame` class.\n"
   ]
  },
  {
   "cell_type": "markdown",
   "metadata": {},
   "source": [
    "The `__init__` method is the constructor for the `SnakeGame` class, and it's responsible for initializing the game's state when a new instance of the class is created. The constructor takes two parameters, `width` and `height`, which are used to set the size of the game window. The constructor also initializes the game's state variables, including the snake's starting position, the snake's starting direction, the snake's starting length, the snake's starting speed, the score, and the food position. The constructor also initializes the Pygame library and creates the game window."
   ]
  },
  {
   "cell_type": "code",
   "execution_count": 7,
   "metadata": {},
   "outputs": [],
   "source": [
    "def __init__(self, w=640, h=480):\n",
    "        \"\"\"Initialize the game with the given width and height\"\"\"\n",
    "        self.w = w\n",
    "        self.h = h\n",
    "\n",
    "        # init display\n",
    "        self.display = pygame.display.set_mode((self.w, self.h))\n",
    "        pygame.display.set_caption('Snake')\n",
    "        self.clock = pygame.time.Clock()\n",
    "       \n",
    "        # init game state\n",
    "        self.direction = Direction.RIGHT\n",
    "\n",
    "        self.head = Point(self.w/2, self.h/2)\n",
    "        self.snake = [self.head, \n",
    "                      Point(self.head.x-BLOCK_SIZE, self.head.y),\n",
    "                      Point(self.head.x-(2*BLOCK_SIZE), self.head.y)]\n",
    "        \n",
    "        self.score = 0\n",
    "        self.food = None\n",
    "        self._place_food()"
   ]
  },
  {
   "cell_type": "markdown",
   "metadata": {},
   "source": [
    "These lines collectively set up the initial state of the Snake game, including the dimensions of the game window, the direction and position of the snake, the score, and the placement of the food.\n",
    "\n",
    "*Code Explaination:*\n",
    "\n",
    "|Code Example|Explaination|\n",
    "|:---|:---|\n",
    "|**`def __init__(self, w=640, h=480):`**|Define the constructor with default width and height.|\n",
    "|**`self.w = w`**|Assign the provided width to the instance variable.|\n",
    "|**`self.h = h`**|Assign the provided height to the instance variable.|\n",
    "|**`self.display = pygame.display.set_mode((self.w, self.h))`**|Initialize the Pygame display with the given width and height.|\n",
    "|**`pygame.display.set_caption('Snake'):`**|Set the window title to 'Snake'.|\n",
    "|**`self.clock = pygame.time.Clock()`**|Create a Pygame clock object to control the game's speed.|\n",
    "|**`self.direction = Direction.RIGHT:`**|Set the initial direction of the snake to right.|\n",
    "|**`self.head = Point(self.w/2, self.h/2)`**| Initialize the head of the snake to the center of the window.|\n",
    "|**`self.snake = [self.head, Point(self.head.x-BLOCK_SIZE, self.head.y), Point(self.head.x-(2*BLOCK_SIZE), self.head.y)]`**|  Initialize the snake with the head and two additional segments.|\n",
    "|**`self.score = 0`**|Initialize the game's score to 0.|\n",
    "|**`self.food = None`**| Initialize the food's position to None.|\n",
    "|**`self._place_food()`**| Call a method to randomly place the food on the game board.|\n"
   ]
  },
  {
   "cell_type": "markdown",
   "metadata": {},
   "source": [
    "The `_place_food` method is responsible for placing a piece of food randomly within the game area. It also checks to make sure that the food does not spawn inside the snake itself.\n"
   ]
  },
  {
   "cell_type": "code",
   "execution_count": 10,
   "metadata": {},
   "outputs": [],
   "source": [
    "def _place_food(self):\n",
    "        \"\"\"Place the food in the game, ensuring not to place it inside the snake\"\"\"\n",
    "        x = random.randint(0, (self.w-BLOCK_SIZE)//BLOCK_SIZE)*BLOCK_SIZE\n",
    "        y = random.randint(0, (self.h-BLOCK_SIZE)//BLOCK_SIZE)*BLOCK_SIZE\n",
    "        self.food = Point(x, y)\n",
    "        if self.food in self.snake:\n",
    "            self._place_food()  "
   ]
  },
  {
   "cell_type": "markdown",
   "metadata": {},
   "source": [
    "*Code Explaination:*\n",
    "\n",
    "|Code Example|Explaination|\n",
    "|:---|:---|\n",
    "|**`x = random.randint(0, (self.w-BLOCK_SIZE)//BLOCK_SIZE)*BLOCK_SIZE`**|This line calculates the x-coordinate for the food. It takes a random integer between 0 and the width of the game area divided by the block size, then multiplies by the block size to ensure the food aligns with the grid.|\n",
    "|**`y = random.randint(0, (self.h-BLOCK_SIZE)//BLOCK_SIZE)*BLOCK_SIZE`**|Similar to the previous line, this line calculates the y-coordinate for the food, taking into account the height of the game area.|\n",
    "|**`self.food = Point(x, y)`**|This line creates a Point namedtuple with the calculated x and y coordinates, representing the location of the food in the game.|\n",
    "|**`if self.food in self.snake:`**|This line checks if the newly placed food overlaps with any part of the snake.|\n",
    "|**`self._place_food()`**|If the food's location does overlap with the snake, this line recursively calls the `_place_food` method to find a new location for the food.|\n",
    "\n",
    "The method ensures that the food is placed in a valid location within the game area and that it does not overlap with the snake."
   ]
  },
  {
   "cell_type": "code",
   "execution_count": 11,
   "metadata": {},
   "outputs": [],
   "source": [
    "def play_step(self):\n",
    "        \"\"\"Main game step which handles user input, movement, collision checks, etc.\"\"\"\n",
    "\n",
    "        # 1. collect user input\n",
    "        for event in pygame.event.get():\n",
    "            # Handle quit event\n",
    "            if event.type == pygame.QUIT:\n",
    "                pygame.quit()\n",
    "                quit()\n",
    "            # Handle key press\n",
    "            if event.type == pygame.KEYDOWN:\n",
    "                if event.key == pygame.K_LEFT:\n",
    "                    self.direction = Direction.LEFT\n",
    "                \n",
    "                elif event.key == pygame.K_RIGHT:\n",
    "                    self.direction = Direction.RIGHT\n",
    "                \n",
    "                elif event.key == pygame.K_UP:\n",
    "                    self.direction = Direction.UP\n",
    "                \n",
    "                elif event.key == pygame.K_DOWN:\n",
    "                    self.direction = Direction.DOWN\n",
    "\n",
    "        # 2. move the snake\n",
    "        self._move(self.direction) # update the head\n",
    "        self.snake.insert(0, self.head) # insert the new head\n",
    "\n",
    "        # check for game over\n",
    "        game_over = False\n",
    "        # check for collisions\n",
    "        if self._is_collision():\n",
    "            game_over = True\n",
    "            return game_over, self.score\n",
    "\n",
    "        # Handle eating food\n",
    "        if self.head == self.food:\n",
    "            self.score += 1\n",
    "            self._place_food()\n",
    "        else:\n",
    "            self.snake.pop()\n",
    "        \n",
    "        # update ui and clock\n",
    "        self._update_ui()\n",
    "        self.clock.tick(SPEED)\n",
    "        # return game over and score\n",
    "        game_over = False\n",
    "        return game_over, self.score"
   ]
  },
  {
   "cell_type": "markdown",
   "metadata": {},
   "source": [
    "Here's a detailed summary of the **`play_step`** method within the **`SnakeGame`** class:\n",
    "\n",
    "1. **Collect User Input**: This portion of the method polls events from the game window and checks for user input. It handles the 'quit' event and key presses for directional controls.\n",
    "    - If the user wants to quit the game, the game window is closed and the program exits.\n",
    "    - If a directional key is pressed (left, right, up, down), the direction of the snake is updated accordingly.\n",
    "    \n",
    "2. **Move the Snake**: The `_move` method is called to update the head's position based on the current direction, and the new head position is inserted at the beginning of the snake's body.\n",
    "\n",
    "3. **Check for Game Over**: The method checks if there has been a collision by calling the `_is_collision` method. If there has been a collision, `game_over` is set to True, and the game over state and current score are returned.\n",
    "\n",
    "4. **Handle Eating Food**: If the head of the snake is at the same position as the food, the score is increased, and new food is placed using the `_place_food` method. If the snake did not eat the food, the tail segment is removed.\n",
    "\n",
    "5. **Update UI and Clock**: The `_update_ui` method is called to refresh the game window, drawing the current state of the snake, food, and score. The `self.clock.tick(SPEED)` call controls the speed of the game loop.\n",
    "\n",
    "6. **Return Game Over and Score**: Finally, the method returns the current game over state and score.\n",
    "\n",
    "This method encapsulates the primary game logic, handling movement, user input, collision detection, eating food, and updating the game state for each step of the game loop. It's called repeatedly to advance the game state frame by frame.\n",
    "\n",
    "**Code Explaination:**\n",
    "\n",
    "|Code Example|Explaination|\n",
    "|:---|:---|\n",
    "|**Collect User Input**|\n",
    "|**`for event in pygame.event.get():`**|This line starts a loop that iterates through all the events that have been queued up by the Pygame library. These events can include mouse clicks, key presses, or system events like quitting the application.|\n",
    "|**`if event.type == pygame.QUIT:`**| This line checks if the current event is a quit event. This event occurs when the user tries to close the game window.|\n",
    "|**`pygame.quit()`**|This line uninitializes all Pygame modules. It's called before closing the application to safely shut down Pygame.|\n",
    "|**`if event.type == pygame.KEYDOWN:`**|This line checks if the current event is a key press event. If true, the code will then check which key was pressed.|\n",
    "|**`if event.key == pygame.K_LEFT:`**|This line checks if the left arrow key was pressed. If true, the direction of the snake is set to left. It is the same for right, up, and down.|\n",
    "|:---|:---|\n",
    "|**Move the Snake**|\n",
    "|**`self._move(self.direction)`**|This line is calling a method within the class `SnakeGame` named `_move`, passing the current direction of the snake as an argument. The purpose of the `_move` method is to calculate the new position of the snake's head based on its current direction. The method updates the `self.head` attribute to the new position, reflecting the movement of the snake's head in the specified direction.|\n",
    "|**`self.snake.insert(0, self.head)`**|This line is using the `insert` method on the `self.snake` list, which represents the body of the snake. The new head position, stored in `self.head`, is inserted at the beginning of the list (index 0). By inserting the new head position at the beginning of the list, the body of the snake effectively follows the head, creating a visual movement for the entire snake.|\n",
    "|:---|:---|\n",
    "|**Check for Collisions**|\n",
    "|**`if self._is_collision():`**|This line is calling a method within the class `SnakeGame` named `_is_collision`. The method checks for any collisions within the game, such as the snake running into the walls of the play area or colliding with itself. If a collision is detected, the method would return True, triggering the execution of the code block inside the if statement.\n",
    "|**`game_over = True`**|This line is setting a variable named `game_over` to `True`, indicating that the game has ended due to a collision. It marks a state where the gameplay should stop and any end-of-game logic should be executed.|\n",
    "|**`return game_over, self.score`**|This line immediately returns from the function, providing two values: the `game_over` state (which is now True) and the current score stored in `self.score`. The caller of this function can use these return values to handle the end-of-game scenario, such as displaying a game over message and the final score.|\n",
    "|:---|:---|\n",
    "|**Handle Eating Food**|\n",
    "|**`if self.head == self.food:`**|This line checks if the snake's head is at the same position as the food. If true, the snake has eaten the food, and the code block inside the if statement is executed.|\n",
    "|**`self.score += 1`**|This line increments the score by 1.|\n",
    "|**`self._place_food()`**|This line calls the `_place_food` method, which randomly places the food in a new location.|\n",
    "|**`else:`**|This line is the else statement for the if statement that checks if the snake's head is at the same position as the food. If the snake did not eat the food, the code block inside the else statement is executed.|\n",
    "|**`self.snake.pop()`**|This line uses the `pop` method on the `self.snake` list, which represents the body of the snake. The `pop` method removes the last element from the list, effectively removing the tail segment of the snake.|\n",
    "|:---|:---|\n",
    "|**Update UI and Clock**|\n",
    "|**`self._update_ui()`**|This line calls the `_update_ui` method, which refreshes the game window, drawing the current state of the snake, food, and score.|\n",
    "|**`self.clock.tick(SPEED)`**|This line uses the `tick` method on the `self.clock` object, which is an instance of the `Clock` class from the Pygame library. The `tick` method controls the speed of the game loop by pausing the execution of the program until the specified number of milliseconds have passed. The `SPEED` constant is used to specify the number of milliseconds between each frame of the game loop.|\n",
    "|:---|:---|\n",
    "|**Return Game Over and Score**|\n",
    "|**`return game_over, self.score`**|This line returns from the function, providing two values: the `game_over` state and the current score stored in `self.score`. The caller of this function can use these return values to handle the end-of-game scenario, such as displaying a game over message and the final score.|\n"
   ]
  },
  {
   "cell_type": "code",
   "execution_count": 13,
   "metadata": {},
   "outputs": [],
   "source": [
    "def _is_collision(self):\n",
    "        # hits boundary\n",
    "        if self.head.x > self.w - BLOCK_SIZE or self.head.x < 0 or self.head.y > self.h - BLOCK_SIZE or self.head.y < 0:\n",
    "            return True\n",
    "        # hits itself\n",
    "        if self.head in self.snake[1:]:\n",
    "            return True\n",
    "        return False"
   ]
  },
  {
   "cell_type": "markdown",
   "metadata": {},
   "source": [
    "**Summary:**\n",
    "The `_is_collision` method checks if the snake has collided with the boundaries of the game window or itself. If a collision is detected with either the boundaries or the body of the snake, the method returns `True`. Otherwise, it returns `False`. This method is essential for determining when the game should end or when certain actions should be taken, depending on how it's used in the game logic.\n",
    "\n",
    "|Code Example|Explaination|\n",
    "|:---|:---|\n",
    "|**`def _is_collision(self):`**|\n",
    "|**`if self.head.x > self.w - BLOCK_SIZE or self.head.x < 0 or self.head.y > self.h - BLOCK_SIZE or self.head.y < 0:`**|This line is checking if the snake's head has gone out of the boundaries of the game window. `self.head.x` and `self.head.y` are the x and y coordinates of the snake's head. `self.w` and `self.h` are the width and height of the game window, respectively. `BLOCK_SIZE` is the size of each segment of the snake (including the head). If any part of this condition is true, it means that the snake's head is outside the game window, indicating a collision with the boundary.|\n",
    "|**`return True`**| (within the first if statement) If the previous condition is met (collision with the boundary), this line returns True, indicating that a collision has occurred.|\n",
    "|**`if self.head in self.body[1:]`**|This line checks if the snake's head has collided with its body. `self.snake` is a list representing the snake, where the head is the first element, and the body is the rest. `self.snake[1:]` returns all elements of the snake except the head. If the head's coordinates match any of the body's coordinates, it indicates a collision with itself.|\n",
    "|**`return True`**| (within the first if statement) If the previous condition is met (collision with the boundary), this line returns True, indicating that a collision has occurred.|\n",
    "|**`return False`**| This line returns `False` if none of the previous conditions were met. It indicates that no collision has occurred.|\n",
    "\n",
    "\n"
   ]
  },
  {
   "cell_type": "code",
   "execution_count": 14,
   "metadata": {},
   "outputs": [],
   "source": [
    "def _update_ui(self):\n",
    "        self.display.fill((BLACK))\n",
    "\n",
    "        for pt in self.snake:\n",
    "            pygame.draw.rect(self.display, BLUE1, pygame.Rect(pt.x, pt.y, BLOCK_SIZE, BLOCK_SIZE))\n",
    "            pygame.draw.rect(self.display, (BLUE2), pygame.Rect(pt.x+4, pt.y+4, 12, 12))\n",
    "        \n",
    "        pygame.draw.rect(self.display, RED, pygame.Rect(self.food.x, self.food.y, BLOCK_SIZE, BLOCK_SIZE))\n",
    "\n",
    "        text = font.render(\"Score: \" + str(self.score), True, WHITE)\n",
    "        self.display.blit(text, [0, 0])\n",
    "        pygame.display.flip()"
   ]
  },
  {
   "cell_type": "markdown",
   "metadata": {},
   "source": [
    "|Code Example|Explaination|\n",
    "|:---|:---|\n",
    "|**`def _update_ui(self):`**|This function is used to update the UI of the game.|\n",
    "|**`self.display.fill((BLACK))`**|This function is used to fill the display with black color.|\n",
    "|**`for pt in self.snake:`**|This loop is used to draw the snake.|\n",
    "|**`pygame.draw.rect(self.display, BLUE, pygame.Rect(pt[0], pt[1], 10, 10))`**|`pygame.draw.rect` is a function provided by the Pygame library used to draw a rectangle on a surface. `self.display` is the surface on which the rectangle will be drawn. In the context of this code, it's likely the main display or window where the game is rendered. `BLUE1` represents the color of the rectangle. It's likely defined earlier in the code as an RGB tuple. For instance, it could be (0, 0, 255) for a shade of blue. `pygame.Rect(pt.x, pt.y, BLOCK_SIZE, BLOCK_SIZE)` creates a rectangular shape with the following properties: `pt.x`, `pt.y` are the coordinates of the top-left corner of the rectangle. In this context,   is a point representing a segment of the snake, and `pt.x` and `pt.y` are the x and y coordinates of that segment. `BLOCK_SIZE` is the width and height of the rectangle. In the context of this code, it likely represents the size of a single segment of the snake, including the head.|\n",
    "|**`pygame.draw.rect(self.display, (BLUE2), pygame.Rect(pt.x+4, pt.y+4, 12, 12))`**|This line of code is similar to the previous one, but with a few key differences: Instead of using `BLUE1`, this line uses `BLUE2`. This is used to create a visual distinction between different parts of the snake. `pygame.Rect(pt.x+4, pt.y+4, 12, 12)` The parameters for the rectangular shape are modified here. The top-left corner's coordinates are offset by 4 pixels both horizontally and vertically (`pt.x+4`, `pt.y+4`). creates a smaller rectangle within the previous rectangle, to add visual detail or shading to the snake's segment.\n",
    "The size of this rectangle is set to 12x12 pixels, which is different from the `BLOCK_SIZE` used previously.|"
   ]
  },
  {
   "cell_type": "code",
   "execution_count": 1,
   "metadata": {},
   "outputs": [],
   "source": [
    "def _move(self, direction):\n",
    "        x = self.head.x\n",
    "        y = self.head.y\n",
    "\n",
    "        if direction == Direction.RIGHT:\n",
    "            x += BLOCK_SIZE\n",
    "        \n",
    "        elif direction == Direction.LEFT:\n",
    "            x -= BLOCK_SIZE\n",
    "        \n",
    "        elif direction == Direction.UP:\n",
    "            y -= BLOCK_SIZE\n",
    "        \n",
    "        elif direction == Direction.DOWN:\n",
    "            y += BLOCK_SIZE\n",
    "        \n",
    "        self.head = Point(x, y)"
   ]
  },
  {
   "cell_type": "markdown",
   "metadata": {},
   "source": [
    "The **`_move`** method is responsible for changing the position of the snake's head based on the current direction of movement. It translates the direction into a change in the x or y coordinates and updates the position of the head. It encapsulates the logic needed to translate the snake's direction into a change in position within the game grid.\n",
    "\n",
    "|Code Example|Explaination|\n",
    "|:---|:---|\n",
    "|**`x = self.head.x and y = self.head.y`**|These lines get the current x and y coordinates of the snake's head. The following conditional statements adjust the x or y coordinates depending on the direction the snake is moving:|\n",
    "|**`if direction == Direction.RIGHT: x += BLOCK_SIZE:`**|If the direction is right, the x coordinate is increased by the block size, causing the snake to move right. Same for left, up, and down.|\n",
    "|**`self.head = Point(x, y)`**|This line updates the head of the snake to the new x and y coordinates after processing the movement.|"
   ]
  },
  {
   "cell_type": "code",
   "execution_count": null,
   "metadata": {},
   "outputs": [],
   "source": [
    "if __name__ == '__main__':\n",
    "    game = SnakeGame()\n",
    "\n",
    "    # game loop\n",
    "    while True:\n",
    "        game_over, score = game.play_step()\n",
    "\n",
    "        if game_over == True:\n",
    "            break\n",
    "\n",
    "    print('Final Score', score)\n",
    "\n",
    "    pygame.quit()\n"
   ]
  },
  {
   "cell_type": "markdown",
   "metadata": {},
   "source": [
    "The section of code represents the main execution flow for the Snake game. It initializes a game instance, runs a continuous loop to progress through game steps, and handles the termination of the game, printing the final score and quitting Pygame when the game is over.\n",
    "\n",
    "|Code Example|Explaination|\n",
    "|:---|:---|\n",
    "|**`if __name__ == '__main__`**|This line ensures that the following code will only be executed if this script is the main program being run (not if it's being imported as a module).|\n",
    "|**`game = SnakeGame()`**|This line initializes an instance of the SnakeGame class, creating a new game|\n",
    "|**`while True:`**|This begins an infinite loop that will continue until explicitly broken. It's the main game loop that keeps the game running.|\n",
    "|**`game_over, score = game.play_step()`**|Inside the loop, the `play_step` method of the SnakeGame object is called, and it returns two values: whether the game is over and the current score. These values are unpacked into the game_over and score variables.|\n",
    "|**`if game_over == True:`**|If the game is over (i.e., if game_over is True), the following line will be executed|\n",
    "|**`break`**|If the game is over, this line breaks out of the infinite loop, ending the game.|\n",
    "|**`print('Final Score', score)`**|After the loop ends (i.e., the game is over), this line prints the final score to the console.|\n",
    "|**`pygame.quit():`**|This line is called after the game is over and cleanly shuts down Pygame.|"
   ]
  }
 ],
 "metadata": {
  "kernelspec": {
   "display_name": "Python 3",
   "language": "python",
   "name": "python3"
  },
  "language_info": {
   "codemirror_mode": {
    "name": "ipython",
    "version": 3
   },
   "file_extension": ".py",
   "mimetype": "text/x-python",
   "name": "python",
   "nbconvert_exporter": "python",
   "pygments_lexer": "ipython3",
   "version": "3.9.9"
  },
  "orig_nbformat": 4
 },
 "nbformat": 4,
 "nbformat_minor": 2
}
